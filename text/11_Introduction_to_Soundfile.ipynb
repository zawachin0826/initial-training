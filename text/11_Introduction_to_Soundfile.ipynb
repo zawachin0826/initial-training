{
 "cells": [
  {
   "cell_type": "markdown",
   "metadata": {},
   "source": [
    "# PySoundFile 入門\n",
    "\n",
    "PySoundFileは，libsndfile，CFFI，およびNumPyに基づいたPython用のオーディオ処理ライブラリです．\n",
    "このライブラリは，WAV，FLAC，OGG，MATなど多様なサウンドファイルフォーマットの読み書きを可能にし，オーディオデータをNumPy配列として表現します．\n",
    "PySoundFileを用いることで，音声や音楽などのサウンドファイルをPythonで扱うことが可能になります．\n",
    "詳細な情報は[公式ドキュメント](https://pysoundfile.readthedocs.io/en/latest/)を参照してください．\n",
    "\n",
    "PySoundFileのインストールは，NumPyなどと同様に`pip`コマンドで行えます．ただし，Pythonの実行にWSLを利用している場合は，以下のコマンドを`pip`の前に実行して，手動で`libsndfile`をインストールしてください．\n",
    "```bash\n",
    "$ sudo apt update\n",
    "$ sudo apt install libsndfile\n",
    "```\n",
    "`pip`コマンドによるインストールは以下の通り行えます．\n",
    "```bash\n",
    "$ pip install soundfile\n",
    "```\n",
    "\n",
    "インストールができたら，PySoundFileを読み込みましょう．`PySoundFile`は`sf`という別名を与えて用いるのが一般的です．"
   ]
  },
  {
   "cell_type": "code",
   "execution_count": null,
   "metadata": {},
   "outputs": [],
   "source": [
    "import soundfile as sf"
   ]
  },
  {
   "cell_type": "markdown",
   "metadata": {},
   "source": [
    "# サウンドファイルの読み込み\n",
    "サウンドファイルを読み込むには，soundfile.read関数を使用します．\n",
    "この関数はファイル名を引数にとり，ファイルからオーディオデータとサンプルレートを読み取ります．読み込まれたオーディオデータはNumPy配列として返されます．\n",
    "例えば，`path/to/your/soundfile.wav`というファイルを読み込むには以下のようにします．"
   ]
  },
  {
   "cell_type": "code",
   "execution_count": null,
   "metadata": {},
   "outputs": [],
   "source": [
    "data, samplerate = sf.read(\"path/to/your/soundfile.wav\")"
   ]
  },
  {
   "cell_type": "markdown",
   "metadata": {},
   "source": [
    "サンプルレート（サンプリングレートやサンプリング周波数とも呼ばれます）は，オーディオ信号をデジタル化する際に，1秒あたりに何回サンプリング（信号の値を記録）するかを示す数値です．\n",
    "単位はヘルツ（Hz）が用いられます．\n",
    "例えばサンプルレートが44.1kHzの場合，1秒間に44,100回のサンプリングが行われることを意味します．\n",
    "サンプルレートが高ければ高いほど，オーディオの品質が高くなりますが，ファイルサイズも大きくなります．\n",
    "CDの標準サンプルレートは44.1kHzですが，プロのオーディオ制作では48kHzや96kHzが使用されることもあります．"
   ]
  },
  {
   "cell_type": "markdown",
   "metadata": {},
   "source": [
    "# サウンドファイルの書き込み\n",
    "\n",
    "NumPy配列をサウンドファイルとして書き出したい場合は，soundfile.write関数を使用します．\n",
    "この関数は書き出すファイル名，オーディオデータのNumPy配列，サンプルレートを引数にとります．\n",
    "例えば，読み込んだデータをFLACフォーマットで書き出すには以下のようにします．"
   ]
  },
  {
   "cell_type": "code",
   "execution_count": null,
   "metadata": {},
   "outputs": [],
   "source": [
    "sf.write(\"path/to/your/newfile.flac\", data, samplerate)"
   ]
  },
  {
   "cell_type": "markdown",
   "metadata": {},
   "source": []
  }
 ],
 "metadata": {
  "language_info": {
   "name": "python"
  }
 },
 "nbformat": 4,
 "nbformat_minor": 2
}
